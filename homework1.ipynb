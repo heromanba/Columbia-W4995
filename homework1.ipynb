{
 "cells": [
  {
   "cell_type": "markdown",
   "metadata": {},
   "source": [
    "# Homework 1"
   ]
  },
  {
   "cell_type": "markdown",
   "metadata": {},
   "source": [
    "## Task2: Data Visualization and Analysis\n",
    "When asking to reproduce the graphs, you are only required to reproduce the essence of the\n",
    "graph. Tick locations and legend locations and specific colors and fonts are not required, but\n",
    "everything needs to be clearly labeled. Do not use seaborn for any of these tasks."
   ]
  },
  {
   "cell_type": "markdown",
   "metadata": {},
   "source": [
    "2.1 Pick a graph from http://www.tylervigen.com/spurious-correlations and recreate it using\n",
    "matplotlib (you can also use numpy and pandas). The code can read the data from the web or\n",
    "from a text file or csv file (to be included in the repository). Ensure the axes are labeled\n",
    "properly."
   ]
  },
  {
   "cell_type": "code",
   "execution_count": null,
   "metadata": {},
   "outputs": [],
   "source": []
  },
  {
   "cell_type": "markdown",
   "metadata": {},
   "source": [
    "2.3 Reproduce the graphs on overlapping data from “Fundamentals of Data Visualization”\n",
    "https://serialmentor.com/dataviz/overlapping-points.html that is figures 18.1 to 18.4, using\n",
    "matplotlib as subplots in a single figure. You can find the dataset on courseworks.\n",
    "The code should include reading the data from the web if possible, otherwise from a text file or\n",
    "csv file (to be included in the repository)."
   ]
  },
  {
   "cell_type": "code",
   "execution_count": null,
   "metadata": {},
   "outputs": [],
   "source": []
  }
 ],
 "metadata": {
  "kernelspec": {
   "display_name": "python3 (machine_learning)",
   "language": "python",
   "name": "machine_learning"
  },
  "language_info": {
   "codemirror_mode": {
    "name": "ipython",
    "version": 3
   },
   "file_extension": ".py",
   "mimetype": "text/x-python",
   "name": "python",
   "nbconvert_exporter": "python",
   "pygments_lexer": "ipython3",
   "version": "3.6.9"
  }
 },
 "nbformat": 4,
 "nbformat_minor": 4
}
