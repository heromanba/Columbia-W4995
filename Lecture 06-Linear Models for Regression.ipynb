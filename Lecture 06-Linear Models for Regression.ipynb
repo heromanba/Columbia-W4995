{
 "cells": [
  {
   "cell_type": "markdown",
   "metadata": {},
   "source": [
    "# Lecture 06 - Linear Models for Regression"
   ]
  },
  {
   "cell_type": "markdown",
   "metadata": {},
   "source": [
    "## Dealing with missing values\n",
    "- Missing values can be encoded in many ways\n",
    "- Numpy has no standard format for it (often np.NaN) - pandas does\n",
    "- Sometimes: 999, ???, ?, np.inf, \"N/A\", \"Unknown\" ...\n",
    "- Not discussing \"missing output\" - that's semi-supervised learning.\n",
    "- Often missingness is informative (Use MissingIndicator)\n",
    "\n",
    "## Imputation(填充) Methods\n",
    "- Mean/Median\n",
    "- kNN\n",
    "- Regression Models\n",
    "- Matrix factorization (not in this lecture)"
   ]
  },
  {
   "cell_type": "code",
   "execution_count": null,
   "metadata": {},
   "outputs": [],
   "source": []
  }
 ],
 "metadata": {
  "kernelspec": {
   "display_name": "python3 (machine_learning)",
   "language": "python",
   "name": "machine_learning"
  },
  "language_info": {
   "codemirror_mode": {
    "name": "ipython",
    "version": 3
   },
   "file_extension": ".py",
   "mimetype": "text/x-python",
   "name": "python",
   "nbconvert_exporter": "python",
   "pygments_lexer": "ipython3",
   "version": "3.6.9"
  }
 },
 "nbformat": 4,
 "nbformat_minor": 4
}
